{
 "cells": [
  {
   "cell_type": "code",
   "execution_count": 1,
   "id": "f5636054",
   "metadata": {
    "execution": {
     "iopub.execute_input": "2025-06-09T09:49:40.968744Z",
     "iopub.status.busy": "2025-06-09T09:49:40.968360Z",
     "iopub.status.idle": "2025-06-09T09:49:45.463272Z",
     "shell.execute_reply": "2025-06-09T09:49:45.461750Z"
    },
    "papermill": {
     "duration": 4.502104,
     "end_time": "2025-06-09T09:49:45.465591",
     "exception": false,
     "start_time": "2025-06-09T09:49:40.963487",
     "status": "completed"
    },
    "tags": []
   },
   "outputs": [
    {
     "name": "stdout",
     "output_type": "stream",
     "text": [
      "Libaires imported\n"
     ]
    }
   ],
   "source": [
    "# Libaries\n",
    "import pandas as pd\n",
    "import numpy as np\n",
    "import re\n",
    "\n",
    "from sklearn.preprocessing import LabelEncoder\n",
    "from sklearn.model_selection import train_test_split\n",
    "import lightgbm as lgb\n",
    "\n",
    "import warnings\n",
    "warnings.filterwarnings(\"ignore\")\n",
    "\n",
    "print('Libaires imported')"
   ]
  },
  {
   "cell_type": "code",
   "execution_count": 2,
   "id": "8aae055a",
   "metadata": {
    "execution": {
     "iopub.execute_input": "2025-06-09T09:49:45.473944Z",
     "iopub.status.busy": "2025-06-09T09:49:45.473364Z",
     "iopub.status.idle": "2025-06-09T09:49:46.961831Z",
     "shell.execute_reply": "2025-06-09T09:49:46.960535Z"
    },
    "papermill": {
     "duration": 1.495186,
     "end_time": "2025-06-09T09:49:46.964099",
     "exception": false,
     "start_time": "2025-06-09T09:49:45.468913",
     "status": "completed"
    },
    "tags": []
   },
   "outputs": [
    {
     "name": "stdout",
     "output_type": "stream",
     "text": [
      "Data imported\n"
     ]
    }
   ],
   "source": [
    "train = pd.read_csv('/kaggle/input/playground-series-s5e6/train.csv')\n",
    "test = pd.read_csv('/kaggle/input/playground-series-s5e6/test.csv')\n",
    "sample_submission = pd.read_csv('/kaggle/input/playground-series-s5e6/sample_submission.csv')\n",
    "\n",
    "print('Data imported')"
   ]
  },
  {
   "cell_type": "code",
   "execution_count": 3,
   "id": "03216910",
   "metadata": {
    "execution": {
     "iopub.execute_input": "2025-06-09T09:49:46.972108Z",
     "iopub.status.busy": "2025-06-09T09:49:46.971715Z",
     "iopub.status.idle": "2025-06-09T09:49:47.011115Z",
     "shell.execute_reply": "2025-06-09T09:49:47.010073Z"
    },
    "papermill": {
     "duration": 0.046425,
     "end_time": "2025-06-09T09:49:47.013633",
     "exception": false,
     "start_time": "2025-06-09T09:49:46.967208",
     "status": "completed"
    },
    "tags": []
   },
   "outputs": [
    {
     "name": "stdout",
     "output_type": "stream",
     "text": [
      "Train shape: (750000, 10)\n",
      "Test shape: (250000, 9)\n"
     ]
    },
    {
     "data": {
      "text/html": [
       "<div>\n",
       "<style scoped>\n",
       "    .dataframe tbody tr th:only-of-type {\n",
       "        vertical-align: middle;\n",
       "    }\n",
       "\n",
       "    .dataframe tbody tr th {\n",
       "        vertical-align: top;\n",
       "    }\n",
       "\n",
       "    .dataframe thead th {\n",
       "        text-align: right;\n",
       "    }\n",
       "</style>\n",
       "<table border=\"1\" class=\"dataframe\">\n",
       "  <thead>\n",
       "    <tr style=\"text-align: right;\">\n",
       "      <th></th>\n",
       "      <th>id</th>\n",
       "      <th>Temparature</th>\n",
       "      <th>Humidity</th>\n",
       "      <th>Moisture</th>\n",
       "      <th>Soil Type</th>\n",
       "      <th>Crop Type</th>\n",
       "      <th>Nitrogen</th>\n",
       "      <th>Potassium</th>\n",
       "      <th>Phosphorous</th>\n",
       "      <th>Fertilizer Name</th>\n",
       "    </tr>\n",
       "  </thead>\n",
       "  <tbody>\n",
       "    <tr>\n",
       "      <th>0</th>\n",
       "      <td>0</td>\n",
       "      <td>37</td>\n",
       "      <td>70</td>\n",
       "      <td>36</td>\n",
       "      <td>Clayey</td>\n",
       "      <td>Sugarcane</td>\n",
       "      <td>36</td>\n",
       "      <td>4</td>\n",
       "      <td>5</td>\n",
       "      <td>28-28</td>\n",
       "    </tr>\n",
       "    <tr>\n",
       "      <th>1</th>\n",
       "      <td>1</td>\n",
       "      <td>27</td>\n",
       "      <td>69</td>\n",
       "      <td>65</td>\n",
       "      <td>Sandy</td>\n",
       "      <td>Millets</td>\n",
       "      <td>30</td>\n",
       "      <td>6</td>\n",
       "      <td>18</td>\n",
       "      <td>28-28</td>\n",
       "    </tr>\n",
       "    <tr>\n",
       "      <th>2</th>\n",
       "      <td>2</td>\n",
       "      <td>29</td>\n",
       "      <td>63</td>\n",
       "      <td>32</td>\n",
       "      <td>Sandy</td>\n",
       "      <td>Millets</td>\n",
       "      <td>24</td>\n",
       "      <td>12</td>\n",
       "      <td>16</td>\n",
       "      <td>17-17-17</td>\n",
       "    </tr>\n",
       "    <tr>\n",
       "      <th>3</th>\n",
       "      <td>3</td>\n",
       "      <td>35</td>\n",
       "      <td>62</td>\n",
       "      <td>54</td>\n",
       "      <td>Sandy</td>\n",
       "      <td>Barley</td>\n",
       "      <td>39</td>\n",
       "      <td>12</td>\n",
       "      <td>4</td>\n",
       "      <td>10-26-26</td>\n",
       "    </tr>\n",
       "    <tr>\n",
       "      <th>4</th>\n",
       "      <td>4</td>\n",
       "      <td>35</td>\n",
       "      <td>58</td>\n",
       "      <td>43</td>\n",
       "      <td>Red</td>\n",
       "      <td>Paddy</td>\n",
       "      <td>37</td>\n",
       "      <td>2</td>\n",
       "      <td>16</td>\n",
       "      <td>DAP</td>\n",
       "    </tr>\n",
       "  </tbody>\n",
       "</table>\n",
       "</div>"
      ],
      "text/plain": [
       "   id  Temparature  Humidity  Moisture Soil Type  Crop Type  Nitrogen  \\\n",
       "0   0           37        70        36    Clayey  Sugarcane        36   \n",
       "1   1           27        69        65     Sandy    Millets        30   \n",
       "2   2           29        63        32     Sandy    Millets        24   \n",
       "3   3           35        62        54     Sandy     Barley        39   \n",
       "4   4           35        58        43       Red      Paddy        37   \n",
       "\n",
       "   Potassium  Phosphorous Fertilizer Name  \n",
       "0          4            5           28-28  \n",
       "1          6           18           28-28  \n",
       "2         12           16        17-17-17  \n",
       "3         12            4        10-26-26  \n",
       "4          2           16             DAP  "
      ]
     },
     "metadata": {},
     "output_type": "display_data"
    },
    {
     "data": {
      "text/html": [
       "<div>\n",
       "<style scoped>\n",
       "    .dataframe tbody tr th:only-of-type {\n",
       "        vertical-align: middle;\n",
       "    }\n",
       "\n",
       "    .dataframe tbody tr th {\n",
       "        vertical-align: top;\n",
       "    }\n",
       "\n",
       "    .dataframe thead th {\n",
       "        text-align: right;\n",
       "    }\n",
       "</style>\n",
       "<table border=\"1\" class=\"dataframe\">\n",
       "  <thead>\n",
       "    <tr style=\"text-align: right;\">\n",
       "      <th></th>\n",
       "      <th>id</th>\n",
       "      <th>Temparature</th>\n",
       "      <th>Humidity</th>\n",
       "      <th>Moisture</th>\n",
       "      <th>Soil Type</th>\n",
       "      <th>Crop Type</th>\n",
       "      <th>Nitrogen</th>\n",
       "      <th>Potassium</th>\n",
       "      <th>Phosphorous</th>\n",
       "    </tr>\n",
       "  </thead>\n",
       "  <tbody>\n",
       "    <tr>\n",
       "      <th>0</th>\n",
       "      <td>750000</td>\n",
       "      <td>31</td>\n",
       "      <td>70</td>\n",
       "      <td>52</td>\n",
       "      <td>Sandy</td>\n",
       "      <td>Wheat</td>\n",
       "      <td>34</td>\n",
       "      <td>11</td>\n",
       "      <td>24</td>\n",
       "    </tr>\n",
       "    <tr>\n",
       "      <th>1</th>\n",
       "      <td>750001</td>\n",
       "      <td>27</td>\n",
       "      <td>62</td>\n",
       "      <td>45</td>\n",
       "      <td>Red</td>\n",
       "      <td>Sugarcane</td>\n",
       "      <td>30</td>\n",
       "      <td>14</td>\n",
       "      <td>15</td>\n",
       "    </tr>\n",
       "    <tr>\n",
       "      <th>2</th>\n",
       "      <td>750002</td>\n",
       "      <td>28</td>\n",
       "      <td>72</td>\n",
       "      <td>28</td>\n",
       "      <td>Clayey</td>\n",
       "      <td>Ground Nuts</td>\n",
       "      <td>14</td>\n",
       "      <td>15</td>\n",
       "      <td>4</td>\n",
       "    </tr>\n",
       "    <tr>\n",
       "      <th>3</th>\n",
       "      <td>750003</td>\n",
       "      <td>37</td>\n",
       "      <td>53</td>\n",
       "      <td>57</td>\n",
       "      <td>Black</td>\n",
       "      <td>Ground Nuts</td>\n",
       "      <td>18</td>\n",
       "      <td>17</td>\n",
       "      <td>36</td>\n",
       "    </tr>\n",
       "    <tr>\n",
       "      <th>4</th>\n",
       "      <td>750004</td>\n",
       "      <td>31</td>\n",
       "      <td>55</td>\n",
       "      <td>32</td>\n",
       "      <td>Red</td>\n",
       "      <td>Pulses</td>\n",
       "      <td>13</td>\n",
       "      <td>19</td>\n",
       "      <td>14</td>\n",
       "    </tr>\n",
       "  </tbody>\n",
       "</table>\n",
       "</div>"
      ],
      "text/plain": [
       "       id  Temparature  Humidity  Moisture Soil Type    Crop Type  Nitrogen  \\\n",
       "0  750000           31        70        52     Sandy        Wheat        34   \n",
       "1  750001           27        62        45       Red    Sugarcane        30   \n",
       "2  750002           28        72        28    Clayey  Ground Nuts        14   \n",
       "3  750003           37        53        57     Black  Ground Nuts        18   \n",
       "4  750004           31        55        32       Red       Pulses        13   \n",
       "\n",
       "   Potassium  Phosphorous  \n",
       "0         11           24  \n",
       "1         14           15  \n",
       "2         15            4  \n",
       "3         17           36  \n",
       "4         19           14  "
      ]
     },
     "metadata": {},
     "output_type": "display_data"
    },
    {
     "data": {
      "text/html": [
       "<div>\n",
       "<style scoped>\n",
       "    .dataframe tbody tr th:only-of-type {\n",
       "        vertical-align: middle;\n",
       "    }\n",
       "\n",
       "    .dataframe tbody tr th {\n",
       "        vertical-align: top;\n",
       "    }\n",
       "\n",
       "    .dataframe thead th {\n",
       "        text-align: right;\n",
       "    }\n",
       "</style>\n",
       "<table border=\"1\" class=\"dataframe\">\n",
       "  <thead>\n",
       "    <tr style=\"text-align: right;\">\n",
       "      <th></th>\n",
       "      <th>id</th>\n",
       "      <th>Fertilizer Name</th>\n",
       "    </tr>\n",
       "  </thead>\n",
       "  <tbody>\n",
       "    <tr>\n",
       "      <th>0</th>\n",
       "      <td>750000</td>\n",
       "      <td>14-35-14 10-26-26 Urea</td>\n",
       "    </tr>\n",
       "    <tr>\n",
       "      <th>1</th>\n",
       "      <td>750001</td>\n",
       "      <td>14-35-14 10-26-26 Urea</td>\n",
       "    </tr>\n",
       "    <tr>\n",
       "      <th>2</th>\n",
       "      <td>750002</td>\n",
       "      <td>14-35-14 10-26-26 Urea</td>\n",
       "    </tr>\n",
       "    <tr>\n",
       "      <th>3</th>\n",
       "      <td>750003</td>\n",
       "      <td>14-35-14 10-26-26 Urea</td>\n",
       "    </tr>\n",
       "    <tr>\n",
       "      <th>4</th>\n",
       "      <td>750004</td>\n",
       "      <td>14-35-14 10-26-26 Urea</td>\n",
       "    </tr>\n",
       "  </tbody>\n",
       "</table>\n",
       "</div>"
      ],
      "text/plain": [
       "       id         Fertilizer Name\n",
       "0  750000  14-35-14 10-26-26 Urea\n",
       "1  750001  14-35-14 10-26-26 Urea\n",
       "2  750002  14-35-14 10-26-26 Urea\n",
       "3  750003  14-35-14 10-26-26 Urea\n",
       "4  750004  14-35-14 10-26-26 Urea"
      ]
     },
     "metadata": {},
     "output_type": "display_data"
    }
   ],
   "source": [
    "print(\"Train shape:\", train.shape)\n",
    "print(\"Test shape:\", test.shape)\n",
    "\n",
    "# Preview the data\n",
    "display(train.head())\n",
    "display(test.head())\n",
    "display(sample_submission.head())"
   ]
  },
  {
   "cell_type": "markdown",
   "id": "4e2af27f",
   "metadata": {
    "papermill": {
     "duration": 0.003549,
     "end_time": "2025-06-09T09:49:47.020909",
     "exception": false,
     "start_time": "2025-06-09T09:49:47.017360",
     "status": "completed"
    },
    "tags": []
   },
   "source": [
    "# Feature Enginering"
   ]
  },
  {
   "cell_type": "markdown",
   "id": "dcf94955",
   "metadata": {
    "papermill": {
     "duration": 0.00333,
     "end_time": "2025-06-09T09:49:47.027918",
     "exception": false,
     "start_time": "2025-06-09T09:49:47.024588",
     "status": "completed"
    },
    "tags": []
   },
   "source": [
    "### Decoupling NPK components from fertilizer labels"
   ]
  },
  {
   "cell_type": "code",
   "execution_count": 4,
   "id": "d72a7027",
   "metadata": {
    "execution": {
     "iopub.execute_input": "2025-06-09T09:49:47.036777Z",
     "iopub.status.busy": "2025-06-09T09:49:47.036377Z",
     "iopub.status.idle": "2025-06-09T09:51:17.359853Z",
     "shell.execute_reply": "2025-06-09T09:51:17.358746Z"
    },
    "papermill": {
     "duration": 90.331038,
     "end_time": "2025-06-09T09:51:17.362551",
     "exception": false,
     "start_time": "2025-06-09T09:49:47.031513",
     "status": "completed"
    },
    "tags": []
   },
   "outputs": [],
   "source": [
    "# Manual NPK values for named fertilizers (approximate real-world values)\n",
    "manual_npk = {\n",
    "    \"Urea\": (46, 0, 0),\n",
    "    \"DAP\": (18, 46, 0),\n",
    "    \"28-28\": (28, 28, 0),\n",
    "    \"20-20\": (20, 20, 0)\n",
    "}\n",
    "\n",
    "# Function to extract NPK from fertilizer name\n",
    "def extract_npk(fert_name):\n",
    "    match = re.match(r\"(\\d+)-(\\d+)-(\\d+)\", fert_name)\n",
    "    if match:\n",
    "        return tuple(map(int, match.groups()))\n",
    "    elif fert_name in manual_npk:\n",
    "        return manual_npk[fert_name]\n",
    "    else:\n",
    "        # If unknown format, return placeholder\n",
    "        return (0, 0, 0)\n",
    "\n",
    "# Apply to training set\n",
    "train[['fert_n', 'fert_p', 'fert_k']] = train['Fertilizer Name'].apply(\n",
    "    lambda x: pd.Series(extract_npk(x))\n",
    ")\n",
    "\n",
    "# Apply to label lookup only\n",
    "fert_npk_df = train[['Fertilizer Name', 'fert_n', 'fert_p', 'fert_k']].drop_duplicates()\n",
    "\n",
    "# NPK Delta metrics\n",
    "train['delta_n'] = train['fert_n'] - train['Nitrogen']\n",
    "train['delta_p'] = train['fert_p'] - train['Phosphorous']\n",
    "train['delta_k'] = train['fert_k'] - train['Potassium']"
   ]
  },
  {
   "cell_type": "markdown",
   "id": "c90a3d87",
   "metadata": {
    "papermill": {
     "duration": 0.003324,
     "end_time": "2025-06-09T09:51:17.369751",
     "exception": false,
     "start_time": "2025-06-09T09:51:17.366427",
     "status": "completed"
    },
    "tags": []
   },
   "source": [
    "### Crop Metadata"
   ]
  },
  {
   "cell_type": "code",
   "execution_count": 5,
   "id": "11ea2506",
   "metadata": {
    "execution": {
     "iopub.execute_input": "2025-06-09T09:51:17.378615Z",
     "iopub.status.busy": "2025-06-09T09:51:17.378266Z",
     "iopub.status.idle": "2025-06-09T09:51:17.642051Z",
     "shell.execute_reply": "2025-06-09T09:51:17.640741Z"
    },
    "papermill": {
     "duration": 0.271833,
     "end_time": "2025-06-09T09:51:17.645105",
     "exception": false,
     "start_time": "2025-06-09T09:51:17.373272",
     "status": "completed"
    },
    "tags": []
   },
   "outputs": [],
   "source": [
    "crop_meta = {\n",
    "    \"Paddy\": {\"feed\": \"heavy\", \"part\": \"grain\"},\n",
    "    \"Wheat\": {\"feed\": \"heavy\", \"part\": \"grain\"},\n",
    "    \"Maize\": {\"feed\": \"heavy\", \"part\": \"grain\"},\n",
    "    \"Barley\": {\"feed\": \"moderate\", \"part\": \"grain\"},\n",
    "    \"Cotton\": {\"feed\": \"moderate\", \"part\": \"fiber\"},\n",
    "    \"Tobacco\": {\"feed\": \"moderate\", \"part\": \"leaf\"},\n",
    "    \"Sugarcane\": {\"feed\": \"heavy\", \"part\": \"stem\"},\n",
    "    \"Millets\": {\"feed\": \"light\", \"part\": \"grain\"},\n",
    "    \"Pulses\": {\"feed\": \"light\", \"part\": \"grain\"},\n",
    "    \"Oil seeds\": {\"feed\": \"moderate\", \"part\": \"seed\"},\n",
    "    \"Ground Nuts\": {\"feed\": \"moderate\", \"part\": \"seed\"},\n",
    "}\n",
    "\n",
    "# Create mapping DataFrame\n",
    "crop_df = pd.DataFrame.from_dict(crop_meta, orient='index').reset_index()\n",
    "crop_df.columns = ['Crop Type', 'feed_type', 'crop_part']\n",
    "\n",
    "# Merge into train/test\n",
    "train = train.merge(crop_df, on='Crop Type', how='left')\n",
    "test = test.merge(crop_df, on='Crop Type', how='left')"
   ]
  },
  {
   "cell_type": "code",
   "execution_count": 6,
   "id": "c73a4f7b",
   "metadata": {
    "execution": {
     "iopub.execute_input": "2025-06-09T09:51:17.654819Z",
     "iopub.status.busy": "2025-06-09T09:51:17.654438Z",
     "iopub.status.idle": "2025-06-09T09:55:38.049158Z",
     "shell.execute_reply": "2025-06-09T09:55:38.047537Z"
    },
    "papermill": {
     "duration": 260.402604,
     "end_time": "2025-06-09T09:55:38.052089",
     "exception": false,
     "start_time": "2025-06-09T09:51:17.649485",
     "status": "completed"
    },
    "tags": []
   },
   "outputs": [
    {
     "name": "stdout",
     "output_type": "stream",
     "text": [
      "Training until validation scores don't improve for 50 rounds\n",
      "[50]\tvalid_0's multi_logloss: 1.93151\n",
      "[100]\tvalid_0's multi_logloss: 1.92675\n",
      "[150]\tvalid_0's multi_logloss: 1.92402\n",
      "[200]\tvalid_0's multi_logloss: 1.92248\n",
      "[250]\tvalid_0's multi_logloss: 1.92136\n",
      "[300]\tvalid_0's multi_logloss: 1.92055\n",
      "[350]\tvalid_0's multi_logloss: 1.92003\n",
      "[400]\tvalid_0's multi_logloss: 1.9195\n",
      "[450]\tvalid_0's multi_logloss: 1.91914\n",
      "[500]\tvalid_0's multi_logloss: 1.91883\n",
      "Did not meet early stopping. Best iteration is:\n",
      "[499]\tvalid_0's multi_logloss: 1.91882\n",
      "Validation MAP@3: 0.3323\n"
     ]
    }
   ],
   "source": [
    "# Encode target (Fertilizer Name)\n",
    "le_fert = LabelEncoder()\n",
    "train['Fert_Label'] = le_fert.fit_transform(train['Fertilizer Name'])\n",
    "\n",
    "# Encode categorical features: Soil Type, Crop Type, Crop Feed, Crop Part\n",
    "le_soil = LabelEncoder()\n",
    "le_crop = LabelEncoder()\n",
    "le_feed = LabelEncoder()\n",
    "le_part = LabelEncoder()\n",
    "\n",
    "train['Soil_Type_enc'] = le_soil.fit_transform(train['Soil Type'])\n",
    "train['Crop_Type_enc'] = le_crop.fit_transform(train['Crop Type'])\n",
    "test['Soil_Type_enc'] = le_soil.transform(test['Soil Type'])\n",
    "test['Crop_Type_enc'] = le_crop.transform(test['Crop Type'])\n",
    "\n",
    "train['feed_type_enc'] = le_feed.fit_transform(train['feed_type'].fillna(\"unknown\"))\n",
    "test['feed_type_enc'] = le_feed.transform(test['feed_type'].fillna(\"unknown\"))\n",
    "\n",
    "train['crop_part_enc'] = le_part.fit_transform(train['crop_part'].fillna(\"unknown\"))\n",
    "test['crop_part_enc'] = le_part.transform(test['crop_part'].fillna(\"unknown\"))\n",
    "\n",
    "# Feature columns\n",
    "features = [\n",
    "    'Temparature', 'Humidity', 'Moisture',\n",
    "    'Nitrogen', 'Phosphorous', 'Potassium',\n",
    "    'Soil_Type_enc', 'Crop_Type_enc',\n",
    "    'feed_type_enc', 'crop_part_enc',\n",
    "]\n",
    "\n",
    "# Split data for local validation\n",
    "X_train, X_val, y_train, y_val = train_test_split(\n",
    "    train[features], train['Fert_Label'], test_size=0.2, random_state=42\n",
    ")\n",
    "\n",
    "# Convert to LightGBM datasets\n",
    "dtrain = lgb.Dataset(X_train, label=y_train)\n",
    "dval = lgb.Dataset(X_val, label=y_val, reference=dtrain)\n",
    "\n",
    "# Define params\n",
    "params = {\n",
    "    'objective': 'multiclass',\n",
    "    'num_class': len(np.unique(y_train)),\n",
    "    'learning_rate': 0.05,\n",
    "    'num_leaves': 64,\n",
    "    'max_depth': 7,\n",
    "    'verbosity': -1,\n",
    "    'metric': 'multi_logloss',\n",
    "    'random_state': 42\n",
    "}\n",
    "\n",
    "# Train with early stopping\n",
    "model = lgb.train(\n",
    "    params,\n",
    "    dtrain,\n",
    "    num_boost_round=500,\n",
    "    valid_sets=[dval],\n",
    "    callbacks=[\n",
    "        lgb.early_stopping(stopping_rounds=50),\n",
    "        lgb.log_evaluation(period=50)\n",
    "    ]\n",
    ")\n",
    "\n",
    "# Predict probabilities for validation\n",
    "val_probs = model.predict(X_val, num_iteration=model.best_iteration)\n",
    "top3_val_preds = np.argsort(-val_probs, axis=1)[:, :3]\n",
    "\n",
    "# Custom MAP@3 function\n",
    "def mapk(actual, predicted, k=3):\n",
    "    score = 0.0\n",
    "    for a, p in zip(actual, predicted):\n",
    "        try:\n",
    "            score += 1.0 / (p[:k].tolist().index(a) + 1)\n",
    "        except ValueError:\n",
    "            score += 0.0\n",
    "    return score / len(actual)\n",
    "\n",
    "# Evaluate MAP@3 on validation set\n",
    "map3_val = mapk(y_val.values, top3_val_preds, k=3)\n",
    "print(f\"Validation MAP@3: {map3_val:.4f}\")\n",
    "\n",
    "# Predict probabilities for test set\n",
    "test_probs = model.predict(test[features], num_iteration=model.best_iteration)\n",
    "top3_test_preds = np.argsort(-test_probs, axis=1)[:, :3]\n",
    "\n",
    "# Convert label indices to fertilizer names row-by-row\n",
    "top3_labels = np.array([\n",
    "    le_fert.inverse_transform(row) for row in top3_test_preds\n",
    "])"
   ]
  },
  {
   "cell_type": "code",
   "execution_count": 7,
   "id": "32bbf818",
   "metadata": {
    "execution": {
     "iopub.execute_input": "2025-06-09T09:55:38.064832Z",
     "iopub.status.busy": "2025-06-09T09:55:38.064250Z",
     "iopub.status.idle": "2025-06-09T09:55:38.726820Z",
     "shell.execute_reply": "2025-06-09T09:55:38.725539Z"
    },
    "papermill": {
     "duration": 0.67268,
     "end_time": "2025-06-09T09:55:38.729394",
     "exception": false,
     "start_time": "2025-06-09T09:55:38.056714",
     "status": "completed"
    },
    "tags": []
   },
   "outputs": [],
   "source": [
    "# Format the submission\n",
    "submission = pd.DataFrame({\n",
    "    \"id\": test[\"id\"],\n",
    "    \"Fertilizer Name\": [\" \".join(row) for row in top3_labels]\n",
    "})\n",
    "\n",
    "# Save to CSV\n",
    "submission.to_csv(\"submission.csv\", index=False)"
   ]
  }
 ],
 "metadata": {
  "kaggle": {
   "accelerator": "none",
   "dataSources": [
    {
     "databundleVersionId": 12184666,
     "sourceId": 91717,
     "sourceType": "competition"
    }
   ],
   "dockerImageVersionId": 30746,
   "isGpuEnabled": false,
   "isInternetEnabled": true,
   "language": "python",
   "sourceType": "notebook"
  },
  "kernelspec": {
   "display_name": "Python 3",
   "language": "python",
   "name": "python3"
  },
  "language_info": {
   "codemirror_mode": {
    "name": "ipython",
    "version": 3
   },
   "file_extension": ".py",
   "mimetype": "text/x-python",
   "name": "python",
   "nbconvert_exporter": "python",
   "pygments_lexer": "ipython3",
   "version": "3.10.13"
  },
  "papermill": {
   "default_parameters": {},
   "duration": 362.417586,
   "end_time": "2025-06-09T09:55:39.556930",
   "environment_variables": {},
   "exception": null,
   "input_path": "__notebook__.ipynb",
   "output_path": "__notebook__.ipynb",
   "parameters": {},
   "start_time": "2025-06-09T09:49:37.139344",
   "version": "2.5.0"
  }
 },
 "nbformat": 4,
 "nbformat_minor": 5
}
